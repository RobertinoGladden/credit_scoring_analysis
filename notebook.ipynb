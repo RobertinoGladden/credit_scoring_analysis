{
 "cells": [
  {
   "cell_type": "markdown",
   "id": "f8146722",
   "metadata": {},
   "source": [
    "# **Credit Risk Analysis and Prediction**"
   ]
  },
  {
   "cell_type": "markdown",
   "id": "d4d1f0a5",
   "metadata": {},
   "source": [
    "Analisis dan prediksi risiko kredit untuk mengevaluasi kemungkinan gagal bayar pinjaman berdasarkan data historis pelanggan.\n",
    "\n",
    "Step Analisis:\n",
    "1. Data Loading and Exploration\n",
    "2. Data Preprocessing\n",
    "3. Model Training\n",
    "4. Model Evaluation\n",
    "5. Inference (Testing Predictions)\""
   ]
  },
  {
   "cell_type": "markdown",
   "id": "6d634fbe",
   "metadata": {},
   "source": [
    "## **Import Library**"
   ]
  },
  {
   "cell_type": "markdown",
   "id": "ff070746",
   "metadata": {},
   "source": [
    "Tahap yang dilakukan di sesi ini adalah:\n",
    "- Mengimpor semua pustaka yang diperlukan untuk analisis data, pra-pemrosesan, pembelajaran mesin, dan evaluasi model. \n",
    "- Mengimpor pandas untuk manipulasi data, seperti membaca file CSV, mengelola DataFrame, dan operasi data lainnya. \n",
    "- Mengimpor numpy untuk operasi numerik, seperti perhitungan matematis, manipulasi array, dan fungsi statistik. \n",
    "- Mengimpor fungsi train_test_split untuk membagi dataset menjadi data pelatihan dan pengujian secara acak. \n",
    "- Mengimpor StandardScaler untuk menstandarisasi fitur numerik dan LabelEncoder untuk mengubah data kategorikal menjadi numerik. \n",
    "- Mengimpor RandomForestClassifier, algoritma pembelajaran mesin berbasis ensemble untuk klasifikasi yang kuat terhadap data tidak seimbang. \n",
    "- Mengimpor metrik evaluasi: accuracy_score untuk akurasi, classification_report untuk laporan metrik terperinci, dan confusion_matrix untuk analisis kesalahan prediksi. \n",
    "- Mengimpor modul warnings untuk mengontrol peringatan yang dihasilkan selama eksekusi kode. \n",
    "- Mengatur pengabaian semua peringatan untuk menjaga output konsol tetap bersih dan fokus pada hasil."
   ]
  },
  {
   "cell_type": "code",
   "execution_count": 1,
   "id": "daa1907e",
   "metadata": {},
   "outputs": [],
   "source": [
    "import pandas as pd\n",
    "import numpy as np\n",
    "from sklearn.model_selection import train_test_split\n",
    "from sklearn.preprocessing import StandardScaler, LabelEncoder\n",
    "from sklearn.ensemble import RandomForestClassifier\n",
    "from sklearn.metrics import accuracy_score, classification_report, confusion_matrix\n",
    "import warnings\n",
    "warnings.filterwarnings('ignore')"
   ]
  },
  {
   "cell_type": "markdown",
   "id": "34e8efcf",
   "metadata": {},
   "source": [
    "## **Data Loading and Exploration**"
   ]
  },
  {
   "cell_type": "markdown",
   "id": "9913889d",
   "metadata": {},
   "source": [
    "Tahap yang dilakukan di sesi ini:\n",
    "- Memuat dataset dari file CSV dan melakukan eksplorasi awal untuk memahami struktur dan isi data. \n",
    "- Membaca file `credit_risk_dataset.csv` ke dalam DataFrame pandas untuk analisis lebih lanjut. file ini berisi data pinjaman dengan kolom seperti usia, pendapatan, dan status pinjaman.\n",
    "- Menilai dataset yang digunakan."
   ]
  },
  {
   "cell_type": "markdown",
   "id": "86837a49",
   "metadata": {},
   "source": [
    "#### **Load the dataset**"
   ]
  },
  {
   "cell_type": "code",
   "execution_count": 2,
   "id": "1320c491",
   "metadata": {},
   "outputs": [],
   "source": [
    "df = pd.read_csv('credit_risk_dataset.csv')"
   ]
  },
  {
   "cell_type": "markdown",
   "id": "97e85766",
   "metadata": {},
   "source": [
    "#### **Display few rows**"
   ]
  },
  {
   "cell_type": "code",
   "execution_count": 3,
   "id": "7b765309",
   "metadata": {},
   "outputs": [
    {
     "data": {
      "application/vnd.microsoft.datawrangler.viewer.v0+json": {
       "columns": [
        {
         "name": "index",
         "rawType": "int64",
         "type": "integer"
        },
        {
         "name": "person_age",
         "rawType": "int64",
         "type": "integer"
        },
        {
         "name": "person_income",
         "rawType": "int64",
         "type": "integer"
        },
        {
         "name": "person_home_ownership",
         "rawType": "object",
         "type": "string"
        },
        {
         "name": "person_emp_length",
         "rawType": "float64",
         "type": "float"
        },
        {
         "name": "loan_intent",
         "rawType": "object",
         "type": "string"
        },
        {
         "name": "loan_grade",
         "rawType": "object",
         "type": "string"
        },
        {
         "name": "loan_amnt",
         "rawType": "int64",
         "type": "integer"
        },
        {
         "name": "loan_int_rate",
         "rawType": "float64",
         "type": "float"
        },
        {
         "name": "loan_status",
         "rawType": "int64",
         "type": "integer"
        },
        {
         "name": "loan_percent_income",
         "rawType": "float64",
         "type": "float"
        },
        {
         "name": "cb_person_default_on_file",
         "rawType": "object",
         "type": "string"
        },
        {
         "name": "cb_person_cred_hist_length",
         "rawType": "int64",
         "type": "integer"
        }
       ],
       "conversionMethod": "pd.DataFrame",
       "ref": "8895fbea-37c3-4a5c-9367-7824472a7b76",
       "rows": [
        [
         "0",
         "22",
         "59000",
         "RENT",
         "123.0",
         "PERSONAL",
         "D",
         "35000",
         "16.02",
         "1",
         "0.59",
         "Y",
         "3"
        ],
        [
         "1",
         "21",
         "9600",
         "OWN",
         "5.0",
         "EDUCATION",
         "B",
         "1000",
         "11.14",
         "0",
         "0.1",
         "N",
         "2"
        ],
        [
         "2",
         "25",
         "9600",
         "MORTGAGE",
         "1.0",
         "MEDICAL",
         "C",
         "5500",
         "12.87",
         "1",
         "0.57",
         "N",
         "3"
        ],
        [
         "3",
         "23",
         "65500",
         "RENT",
         "4.0",
         "MEDICAL",
         "C",
         "35000",
         "15.23",
         "1",
         "0.53",
         "N",
         "2"
        ],
        [
         "4",
         "24",
         "54400",
         "RENT",
         "8.0",
         "MEDICAL",
         "C",
         "35000",
         "14.27",
         "1",
         "0.55",
         "Y",
         "4"
        ]
       ],
       "shape": {
        "columns": 12,
        "rows": 5
       }
      },
      "text/html": [
       "<div>\n",
       "<style scoped>\n",
       "    .dataframe tbody tr th:only-of-type {\n",
       "        vertical-align: middle;\n",
       "    }\n",
       "\n",
       "    .dataframe tbody tr th {\n",
       "        vertical-align: top;\n",
       "    }\n",
       "\n",
       "    .dataframe thead th {\n",
       "        text-align: right;\n",
       "    }\n",
       "</style>\n",
       "<table border=\"1\" class=\"dataframe\">\n",
       "  <thead>\n",
       "    <tr style=\"text-align: right;\">\n",
       "      <th></th>\n",
       "      <th>person_age</th>\n",
       "      <th>person_income</th>\n",
       "      <th>person_home_ownership</th>\n",
       "      <th>person_emp_length</th>\n",
       "      <th>loan_intent</th>\n",
       "      <th>loan_grade</th>\n",
       "      <th>loan_amnt</th>\n",
       "      <th>loan_int_rate</th>\n",
       "      <th>loan_status</th>\n",
       "      <th>loan_percent_income</th>\n",
       "      <th>cb_person_default_on_file</th>\n",
       "      <th>cb_person_cred_hist_length</th>\n",
       "    </tr>\n",
       "  </thead>\n",
       "  <tbody>\n",
       "    <tr>\n",
       "      <th>0</th>\n",
       "      <td>22</td>\n",
       "      <td>59000</td>\n",
       "      <td>RENT</td>\n",
       "      <td>123.0</td>\n",
       "      <td>PERSONAL</td>\n",
       "      <td>D</td>\n",
       "      <td>35000</td>\n",
       "      <td>16.02</td>\n",
       "      <td>1</td>\n",
       "      <td>0.59</td>\n",
       "      <td>Y</td>\n",
       "      <td>3</td>\n",
       "    </tr>\n",
       "    <tr>\n",
       "      <th>1</th>\n",
       "      <td>21</td>\n",
       "      <td>9600</td>\n",
       "      <td>OWN</td>\n",
       "      <td>5.0</td>\n",
       "      <td>EDUCATION</td>\n",
       "      <td>B</td>\n",
       "      <td>1000</td>\n",
       "      <td>11.14</td>\n",
       "      <td>0</td>\n",
       "      <td>0.10</td>\n",
       "      <td>N</td>\n",
       "      <td>2</td>\n",
       "    </tr>\n",
       "    <tr>\n",
       "      <th>2</th>\n",
       "      <td>25</td>\n",
       "      <td>9600</td>\n",
       "      <td>MORTGAGE</td>\n",
       "      <td>1.0</td>\n",
       "      <td>MEDICAL</td>\n",
       "      <td>C</td>\n",
       "      <td>5500</td>\n",
       "      <td>12.87</td>\n",
       "      <td>1</td>\n",
       "      <td>0.57</td>\n",
       "      <td>N</td>\n",
       "      <td>3</td>\n",
       "    </tr>\n",
       "    <tr>\n",
       "      <th>3</th>\n",
       "      <td>23</td>\n",
       "      <td>65500</td>\n",
       "      <td>RENT</td>\n",
       "      <td>4.0</td>\n",
       "      <td>MEDICAL</td>\n",
       "      <td>C</td>\n",
       "      <td>35000</td>\n",
       "      <td>15.23</td>\n",
       "      <td>1</td>\n",
       "      <td>0.53</td>\n",
       "      <td>N</td>\n",
       "      <td>2</td>\n",
       "    </tr>\n",
       "    <tr>\n",
       "      <th>4</th>\n",
       "      <td>24</td>\n",
       "      <td>54400</td>\n",
       "      <td>RENT</td>\n",
       "      <td>8.0</td>\n",
       "      <td>MEDICAL</td>\n",
       "      <td>C</td>\n",
       "      <td>35000</td>\n",
       "      <td>14.27</td>\n",
       "      <td>1</td>\n",
       "      <td>0.55</td>\n",
       "      <td>Y</td>\n",
       "      <td>4</td>\n",
       "    </tr>\n",
       "  </tbody>\n",
       "</table>\n",
       "</div>"
      ],
      "text/plain": [
       "   person_age  person_income person_home_ownership  person_emp_length  \\\n",
       "0          22          59000                  RENT              123.0   \n",
       "1          21           9600                   OWN                5.0   \n",
       "2          25           9600              MORTGAGE                1.0   \n",
       "3          23          65500                  RENT                4.0   \n",
       "4          24          54400                  RENT                8.0   \n",
       "\n",
       "  loan_intent loan_grade  loan_amnt  loan_int_rate  loan_status  \\\n",
       "0    PERSONAL          D      35000          16.02            1   \n",
       "1   EDUCATION          B       1000          11.14            0   \n",
       "2     MEDICAL          C       5500          12.87            1   \n",
       "3     MEDICAL          C      35000          15.23            1   \n",
       "4     MEDICAL          C      35000          14.27            1   \n",
       "\n",
       "   loan_percent_income cb_person_default_on_file  cb_person_cred_hist_length  \n",
       "0                 0.59                         Y                           3  \n",
       "1                 0.10                         N                           2  \n",
       "2                 0.57                         N                           3  \n",
       "3                 0.53                         N                           2  \n",
       "4                 0.55                         Y                           4  "
      ]
     },
     "execution_count": 3,
     "metadata": {},
     "output_type": "execute_result"
    }
   ],
   "source": [
    "df.head()"
   ]
  },
  {
   "cell_type": "markdown",
   "id": "8ac2601d",
   "metadata": {},
   "source": [
    "#### **Data information**"
   ]
  },
  {
   "cell_type": "code",
   "execution_count": 4,
   "id": "45441a6f",
   "metadata": {},
   "outputs": [
    {
     "name": "stdout",
     "output_type": "stream",
     "text": [
      "<class 'pandas.core.frame.DataFrame'>\n",
      "RangeIndex: 32581 entries, 0 to 32580\n",
      "Data columns (total 12 columns):\n",
      " #   Column                      Non-Null Count  Dtype  \n",
      "---  ------                      --------------  -----  \n",
      " 0   person_age                  32581 non-null  int64  \n",
      " 1   person_income               32581 non-null  int64  \n",
      " 2   person_home_ownership       32581 non-null  object \n",
      " 3   person_emp_length           31686 non-null  float64\n",
      " 4   loan_intent                 32581 non-null  object \n",
      " 5   loan_grade                  32581 non-null  object \n",
      " 6   loan_amnt                   32581 non-null  int64  \n",
      " 7   loan_int_rate               29465 non-null  float64\n",
      " 8   loan_status                 32581 non-null  int64  \n",
      " 9   loan_percent_income         32581 non-null  float64\n",
      " 10  cb_person_default_on_file   32581 non-null  object \n",
      " 11  cb_person_cred_hist_length  32581 non-null  int64  \n",
      "dtypes: float64(3), int64(5), object(4)\n",
      "memory usage: 3.0+ MB\n"
     ]
    }
   ],
   "source": [
    "df.info()"
   ]
  },
  {
   "cell_type": "markdown",
   "id": "d4e3b397",
   "metadata": {},
   "source": [
    "#### **Check Missing Values**"
   ]
  },
  {
   "cell_type": "code",
   "execution_count": 5,
   "id": "bf9c4b8a",
   "metadata": {},
   "outputs": [
    {
     "data": {
      "text/plain": [
       "person_age                       0\n",
       "person_income                    0\n",
       "person_home_ownership            0\n",
       "person_emp_length              895\n",
       "loan_intent                      0\n",
       "loan_grade                       0\n",
       "loan_amnt                        0\n",
       "loan_int_rate                 3116\n",
       "loan_status                      0\n",
       "loan_percent_income              0\n",
       "cb_person_default_on_file        0\n",
       "cb_person_cred_hist_length       0\n",
       "dtype: int64"
      ]
     },
     "execution_count": 5,
     "metadata": {},
     "output_type": "execute_result"
    }
   ],
   "source": [
    "df.isnull().sum()"
   ]
  },
  {
   "cell_type": "markdown",
   "id": "ac70f6ef",
   "metadata": {},
   "source": [
    "## **Data Preprocessing**"
   ]
  },
  {
   "cell_type": "markdown",
   "id": "49f14151",
   "metadata": {},
   "source": [
    "Tahap yang dilakukan di sesi ini:\n",
    "- Melakukan pra-pemrosesan data untuk membersihkan, menangani nilai hilang, menghapus outlier, dan mengubah format data agar sesuai untuk pelatihan model.\n",
    "- Handle missing values\n",
    "- Menangani nilai yang hilang (missing values) pada kolom tertentu untuk memastikan data lengkap sebelum pelatihan model."
   ]
  },
  {
   "cell_type": "markdown",
   "id": "1029090f",
   "metadata": {},
   "source": [
    "#### **Handle missing values**"
   ]
  },
  {
   "cell_type": "code",
   "execution_count": 6,
   "id": "9dbc5b08",
   "metadata": {},
   "outputs": [],
   "source": [
    "df['loan_int_rate'].fillna(df['loan_int_rate'].median(), inplace=True)\n",
    "df['person_emp_length'].fillna(df['person_emp_length'].median(), inplace=True)"
   ]
  },
  {
   "cell_type": "markdown",
   "id": "575db04a",
   "metadata": {},
   "source": [
    "Mengisi nilai yang hilang pada kolom `loan_int_rate` (suku bunga pinjaman) dengan nilai median dari kolom tersebut untuk menghindari bias; parameter `inplace=True` memodifikasi DataFrame secara langsung. Mengisi nilai yang hilang pada kolom `person_emp_length` (lama bekerja) dengan nilai median untuk menjaga konsistensi data; median dipilih karena tahan terhadap outlier."
   ]
  },
  {
   "cell_type": "code",
   "execution_count": 7,
   "id": "7eaf1343",
   "metadata": {},
   "outputs": [
    {
     "data": {
      "text/plain": [
       "person_age                    0\n",
       "person_income                 0\n",
       "person_home_ownership         0\n",
       "person_emp_length             0\n",
       "loan_intent                   0\n",
       "loan_grade                    0\n",
       "loan_amnt                     0\n",
       "loan_int_rate                 0\n",
       "loan_status                   0\n",
       "loan_percent_income           0\n",
       "cb_person_default_on_file     0\n",
       "cb_person_cred_hist_length    0\n",
       "dtype: int64"
      ]
     },
     "execution_count": 7,
     "metadata": {},
     "output_type": "execute_result"
    }
   ],
   "source": [
    "df.isnull().sum()"
   ]
  },
  {
   "cell_type": "markdown",
   "id": "557883bc",
   "metadata": {},
   "source": [
    "#### **Remove outliers**\n",
    "Menghapus data yang dianggap tidak realistis (outlier) untuk meningkatkan kualitas data dan akurasi model."
   ]
  },
  {
   "cell_type": "code",
   "execution_count": 8,
   "id": "70fefcb4",
   "metadata": {},
   "outputs": [],
   "source": [
    "df = df[(df['person_age'] <= 100) & (df['person_emp_length'] <= 50)]"
   ]
  },
  {
   "cell_type": "markdown",
   "id": "c9c5cde6",
   "metadata": {},
   "source": [
    "Memfilter DataFrame untuk hanya menyertakan baris dengan usia pelanggan `person_age` kurang dari atau sama dengan 100 tahun dan lama bekerja `person_emp_length` kurang dari atau sama dengan 50 tahun, karena nilai di luar rentang ini dianggap tidak wajar."
   ]
  },
  {
   "cell_type": "markdown",
   "id": "9ad412f9",
   "metadata": {},
   "source": [
    "#### **Encode categorical variables**\n",
    "\n",
    "Mengubah kolom kategorikal (teks) menjadi format numerik agar dapat digunakan oleh algoritma pembelajaran mesin."
   ]
  },
  {
   "cell_type": "code",
   "execution_count": 9,
   "id": "11a5baa0",
   "metadata": {},
   "outputs": [],
   "source": [
    "le = LabelEncoder()\n",
    "categorical_cols = ['person_home_ownership', 'loan_intent', 'loan_grade', 'cb_person_default_on_file']\n",
    "for col in categorical_cols:\n",
    "    df[col] = le.fit_transform(df[col])"
   ]
  },
  {
   "cell_type": "markdown",
   "id": "2c00320b",
   "metadata": {},
   "source": [
    "Membuat objek LabelEncoder dari sklearn untuk mengkodekan variabel kategorikal menjadi nilai numerik (misalnya, `RENT` menjadi 0, `MORTGAGE` menjadi 1). Mendefinisikan daftar kolom kategorikal yang akan dikodekan, yaitu kepemilikan rumah, tujuan pinjaman, grade pinjaman, dan riwayat gagal bayar. Menggunakan `LabelEncoder` untuk mengkodekan nilai kategorikal pada kolom saat ini menjadi nilai numerik; `fit_transform` melatih encoder dan langsung menerapkannya."
   ]
  },
  {
   "cell_type": "markdown",
   "id": "e8617252",
   "metadata": {},
   "source": [
    "#### **Define features and target**"
   ]
  },
  {
   "cell_type": "markdown",
   "id": "422fe83b",
   "metadata": {},
   "source": [
    "Memisahkan fitur (variabel independen) dan target (variabel dependen) untuk persiapan pelatihan model."
   ]
  },
  {
   "cell_type": "code",
   "execution_count": 10,
   "id": "aa6854fc",
   "metadata": {},
   "outputs": [],
   "source": [
    "X = df.drop('loan_status', axis=1)\n",
    "y = df['loan_status']"
   ]
  },
  {
   "cell_type": "markdown",
   "id": "b3b0018c",
   "metadata": {},
   "source": [
    "Membuat variabel X yang berisi semua kolom kecuali `loan_status` (target); axis=1 menunjukkan bahwa kolom akan dihapus. Menetapkan kolom `loan_status` sebagai variabel target y, yang menunjukkan apakah pinjaman gagal bayar (1) atau lunas (0)."
   ]
  },
  {
   "cell_type": "markdown",
   "id": "ca64a842",
   "metadata": {},
   "source": [
    "#### **Split the data**"
   ]
  },
  {
   "cell_type": "markdown",
   "id": "78d6e42c",
   "metadata": {},
   "source": [
    "Membagi dataset menjadi dua bagian: data pelatihan (training) dan data pengujian (testing) untuk mengevaluasi performa model."
   ]
  },
  {
   "cell_type": "code",
   "execution_count": 11,
   "id": "bf7c071c",
   "metadata": {},
   "outputs": [],
   "source": [
    "X_train, X_test, y_train, y_test = train_test_split(X, y, test_size=0.2, random_state=42)"
   ]
  },
  {
   "cell_type": "markdown",
   "id": "39f82076",
   "metadata": {},
   "source": [
    "Membagi data dengan rasio 80% pelatihan dan 20% pengujian; random_state=42 memastikan pembagian konsisten setiap kali kode dijalankan."
   ]
  },
  {
   "cell_type": "markdown",
   "id": "55b364ea",
   "metadata": {},
   "source": [
    "#### **Scale numerical features**"
   ]
  },
  {
   "cell_type": "markdown",
   "id": "8b9d4457",
   "metadata": {},
   "source": [
    "Menstandarisasi fitur numerik agar memiliki mean 0 dan varians 1, yang diperlukan untuk beberapa algoritma pembelajaran mesin."
   ]
  },
  {
   "cell_type": "code",
   "execution_count": 12,
   "id": "c103d566",
   "metadata": {},
   "outputs": [],
   "source": [
    "scaler = StandardScaler()\n",
    "X_train = scaler.fit_transform(X_train)\n",
    "X_test = scaler.transform(X_test)"
   ]
  },
  {
   "cell_type": "markdown",
   "id": "97227389",
   "metadata": {},
   "source": [
    "Membuat objek `StandardScaler` untuk menstandarisasi fitur numerik dengan mengurangkan mean dan membagi dengan standar deviasi. Melatih scaler pada data pelatihan (menghitung mean dan standar deviasi) dan langsung menstandarisasi `X_train`. Menerapkan standarisasi pada data pengujian menggunakan parameter (mean dan standar deviasi) dari data pelatihan untuk menghindari kebocoran data."
   ]
  },
  {
   "cell_type": "markdown",
   "id": "96bab377",
   "metadata": {},
   "source": [
    "## **Model Training**"
   ]
  },
  {
   "cell_type": "markdown",
   "id": "308c09ca",
   "metadata": {},
   "source": [
    "Tahap yang dilakukan di sesi ini:\n",
    "- Melatih model pembelajaran mesin menggunakan data pelatihan yang telah diproses.\n",
    "- Using RandomForestClassifier for its robustness and ability to handle imbalanced datasets\n",
    "- Memilih RandomForestClassifier karena kemampuannya menangani dataset yang tidak seimbang dan memberikan hasil yang kuat melalui pendekatan ensemble.\n"
   ]
  },
  {
   "cell_type": "code",
   "execution_count": 13,
   "id": "0da4ddc0",
   "metadata": {},
   "outputs": [
    {
     "data": {
      "text/html": [
       "<style>#sk-container-id-1 {\n",
       "  /* Definition of color scheme common for light and dark mode */\n",
       "  --sklearn-color-text: #000;\n",
       "  --sklearn-color-text-muted: #666;\n",
       "  --sklearn-color-line: gray;\n",
       "  /* Definition of color scheme for unfitted estimators */\n",
       "  --sklearn-color-unfitted-level-0: #fff5e6;\n",
       "  --sklearn-color-unfitted-level-1: #f6e4d2;\n",
       "  --sklearn-color-unfitted-level-2: #ffe0b3;\n",
       "  --sklearn-color-unfitted-level-3: chocolate;\n",
       "  /* Definition of color scheme for fitted estimators */\n",
       "  --sklearn-color-fitted-level-0: #f0f8ff;\n",
       "  --sklearn-color-fitted-level-1: #d4ebff;\n",
       "  --sklearn-color-fitted-level-2: #b3dbfd;\n",
       "  --sklearn-color-fitted-level-3: cornflowerblue;\n",
       "\n",
       "  /* Specific color for light theme */\n",
       "  --sklearn-color-text-on-default-background: var(--sg-text-color, var(--theme-code-foreground, var(--jp-content-font-color1, black)));\n",
       "  --sklearn-color-background: var(--sg-background-color, var(--theme-background, var(--jp-layout-color0, white)));\n",
       "  --sklearn-color-border-box: var(--sg-text-color, var(--theme-code-foreground, var(--jp-content-font-color1, black)));\n",
       "  --sklearn-color-icon: #696969;\n",
       "\n",
       "  @media (prefers-color-scheme: dark) {\n",
       "    /* Redefinition of color scheme for dark theme */\n",
       "    --sklearn-color-text-on-default-background: var(--sg-text-color, var(--theme-code-foreground, var(--jp-content-font-color1, white)));\n",
       "    --sklearn-color-background: var(--sg-background-color, var(--theme-background, var(--jp-layout-color0, #111)));\n",
       "    --sklearn-color-border-box: var(--sg-text-color, var(--theme-code-foreground, var(--jp-content-font-color1, white)));\n",
       "    --sklearn-color-icon: #878787;\n",
       "  }\n",
       "}\n",
       "\n",
       "#sk-container-id-1 {\n",
       "  color: var(--sklearn-color-text);\n",
       "}\n",
       "\n",
       "#sk-container-id-1 pre {\n",
       "  padding: 0;\n",
       "}\n",
       "\n",
       "#sk-container-id-1 input.sk-hidden--visually {\n",
       "  border: 0;\n",
       "  clip: rect(1px 1px 1px 1px);\n",
       "  clip: rect(1px, 1px, 1px, 1px);\n",
       "  height: 1px;\n",
       "  margin: -1px;\n",
       "  overflow: hidden;\n",
       "  padding: 0;\n",
       "  position: absolute;\n",
       "  width: 1px;\n",
       "}\n",
       "\n",
       "#sk-container-id-1 div.sk-dashed-wrapped {\n",
       "  border: 1px dashed var(--sklearn-color-line);\n",
       "  margin: 0 0.4em 0.5em 0.4em;\n",
       "  box-sizing: border-box;\n",
       "  padding-bottom: 0.4em;\n",
       "  background-color: var(--sklearn-color-background);\n",
       "}\n",
       "\n",
       "#sk-container-id-1 div.sk-container {\n",
       "  /* jupyter's `normalize.less` sets `[hidden] { display: none; }`\n",
       "     but bootstrap.min.css set `[hidden] { display: none !important; }`\n",
       "     so we also need the `!important` here to be able to override the\n",
       "     default hidden behavior on the sphinx rendered scikit-learn.org.\n",
       "     See: https://github.com/scikit-learn/scikit-learn/issues/21755 */\n",
       "  display: inline-block !important;\n",
       "  position: relative;\n",
       "}\n",
       "\n",
       "#sk-container-id-1 div.sk-text-repr-fallback {\n",
       "  display: none;\n",
       "}\n",
       "\n",
       "div.sk-parallel-item,\n",
       "div.sk-serial,\n",
       "div.sk-item {\n",
       "  /* draw centered vertical line to link estimators */\n",
       "  background-image: linear-gradient(var(--sklearn-color-text-on-default-background), var(--sklearn-color-text-on-default-background));\n",
       "  background-size: 2px 100%;\n",
       "  background-repeat: no-repeat;\n",
       "  background-position: center center;\n",
       "}\n",
       "\n",
       "/* Parallel-specific style estimator block */\n",
       "\n",
       "#sk-container-id-1 div.sk-parallel-item::after {\n",
       "  content: \"\";\n",
       "  width: 100%;\n",
       "  border-bottom: 2px solid var(--sklearn-color-text-on-default-background);\n",
       "  flex-grow: 1;\n",
       "}\n",
       "\n",
       "#sk-container-id-1 div.sk-parallel {\n",
       "  display: flex;\n",
       "  align-items: stretch;\n",
       "  justify-content: center;\n",
       "  background-color: var(--sklearn-color-background);\n",
       "  position: relative;\n",
       "}\n",
       "\n",
       "#sk-container-id-1 div.sk-parallel-item {\n",
       "  display: flex;\n",
       "  flex-direction: column;\n",
       "}\n",
       "\n",
       "#sk-container-id-1 div.sk-parallel-item:first-child::after {\n",
       "  align-self: flex-end;\n",
       "  width: 50%;\n",
       "}\n",
       "\n",
       "#sk-container-id-1 div.sk-parallel-item:last-child::after {\n",
       "  align-self: flex-start;\n",
       "  width: 50%;\n",
       "}\n",
       "\n",
       "#sk-container-id-1 div.sk-parallel-item:only-child::after {\n",
       "  width: 0;\n",
       "}\n",
       "\n",
       "/* Serial-specific style estimator block */\n",
       "\n",
       "#sk-container-id-1 div.sk-serial {\n",
       "  display: flex;\n",
       "  flex-direction: column;\n",
       "  align-items: center;\n",
       "  background-color: var(--sklearn-color-background);\n",
       "  padding-right: 1em;\n",
       "  padding-left: 1em;\n",
       "}\n",
       "\n",
       "\n",
       "/* Toggleable style: style used for estimator/Pipeline/ColumnTransformer box that is\n",
       "clickable and can be expanded/collapsed.\n",
       "- Pipeline and ColumnTransformer use this feature and define the default style\n",
       "- Estimators will overwrite some part of the style using the `sk-estimator` class\n",
       "*/\n",
       "\n",
       "/* Pipeline and ColumnTransformer style (default) */\n",
       "\n",
       "#sk-container-id-1 div.sk-toggleable {\n",
       "  /* Default theme specific background. It is overwritten whether we have a\n",
       "  specific estimator or a Pipeline/ColumnTransformer */\n",
       "  background-color: var(--sklearn-color-background);\n",
       "}\n",
       "\n",
       "/* Toggleable label */\n",
       "#sk-container-id-1 label.sk-toggleable__label {\n",
       "  cursor: pointer;\n",
       "  display: flex;\n",
       "  width: 100%;\n",
       "  margin-bottom: 0;\n",
       "  padding: 0.5em;\n",
       "  box-sizing: border-box;\n",
       "  text-align: center;\n",
       "  align-items: start;\n",
       "  justify-content: space-between;\n",
       "  gap: 0.5em;\n",
       "}\n",
       "\n",
       "#sk-container-id-1 label.sk-toggleable__label .caption {\n",
       "  font-size: 0.6rem;\n",
       "  font-weight: lighter;\n",
       "  color: var(--sklearn-color-text-muted);\n",
       "}\n",
       "\n",
       "#sk-container-id-1 label.sk-toggleable__label-arrow:before {\n",
       "  /* Arrow on the left of the label */\n",
       "  content: \"▸\";\n",
       "  float: left;\n",
       "  margin-right: 0.25em;\n",
       "  color: var(--sklearn-color-icon);\n",
       "}\n",
       "\n",
       "#sk-container-id-1 label.sk-toggleable__label-arrow:hover:before {\n",
       "  color: var(--sklearn-color-text);\n",
       "}\n",
       "\n",
       "/* Toggleable content - dropdown */\n",
       "\n",
       "#sk-container-id-1 div.sk-toggleable__content {\n",
       "  max-height: 0;\n",
       "  max-width: 0;\n",
       "  overflow: hidden;\n",
       "  text-align: left;\n",
       "  /* unfitted */\n",
       "  background-color: var(--sklearn-color-unfitted-level-0);\n",
       "}\n",
       "\n",
       "#sk-container-id-1 div.sk-toggleable__content.fitted {\n",
       "  /* fitted */\n",
       "  background-color: var(--sklearn-color-fitted-level-0);\n",
       "}\n",
       "\n",
       "#sk-container-id-1 div.sk-toggleable__content pre {\n",
       "  margin: 0.2em;\n",
       "  border-radius: 0.25em;\n",
       "  color: var(--sklearn-color-text);\n",
       "  /* unfitted */\n",
       "  background-color: var(--sklearn-color-unfitted-level-0);\n",
       "}\n",
       "\n",
       "#sk-container-id-1 div.sk-toggleable__content.fitted pre {\n",
       "  /* unfitted */\n",
       "  background-color: var(--sklearn-color-fitted-level-0);\n",
       "}\n",
       "\n",
       "#sk-container-id-1 input.sk-toggleable__control:checked~div.sk-toggleable__content {\n",
       "  /* Expand drop-down */\n",
       "  max-height: 200px;\n",
       "  max-width: 100%;\n",
       "  overflow: auto;\n",
       "}\n",
       "\n",
       "#sk-container-id-1 input.sk-toggleable__control:checked~label.sk-toggleable__label-arrow:before {\n",
       "  content: \"▾\";\n",
       "}\n",
       "\n",
       "/* Pipeline/ColumnTransformer-specific style */\n",
       "\n",
       "#sk-container-id-1 div.sk-label input.sk-toggleable__control:checked~label.sk-toggleable__label {\n",
       "  color: var(--sklearn-color-text);\n",
       "  background-color: var(--sklearn-color-unfitted-level-2);\n",
       "}\n",
       "\n",
       "#sk-container-id-1 div.sk-label.fitted input.sk-toggleable__control:checked~label.sk-toggleable__label {\n",
       "  background-color: var(--sklearn-color-fitted-level-2);\n",
       "}\n",
       "\n",
       "/* Estimator-specific style */\n",
       "\n",
       "/* Colorize estimator box */\n",
       "#sk-container-id-1 div.sk-estimator input.sk-toggleable__control:checked~label.sk-toggleable__label {\n",
       "  /* unfitted */\n",
       "  background-color: var(--sklearn-color-unfitted-level-2);\n",
       "}\n",
       "\n",
       "#sk-container-id-1 div.sk-estimator.fitted input.sk-toggleable__control:checked~label.sk-toggleable__label {\n",
       "  /* fitted */\n",
       "  background-color: var(--sklearn-color-fitted-level-2);\n",
       "}\n",
       "\n",
       "#sk-container-id-1 div.sk-label label.sk-toggleable__label,\n",
       "#sk-container-id-1 div.sk-label label {\n",
       "  /* The background is the default theme color */\n",
       "  color: var(--sklearn-color-text-on-default-background);\n",
       "}\n",
       "\n",
       "/* On hover, darken the color of the background */\n",
       "#sk-container-id-1 div.sk-label:hover label.sk-toggleable__label {\n",
       "  color: var(--sklearn-color-text);\n",
       "  background-color: var(--sklearn-color-unfitted-level-2);\n",
       "}\n",
       "\n",
       "/* Label box, darken color on hover, fitted */\n",
       "#sk-container-id-1 div.sk-label.fitted:hover label.sk-toggleable__label.fitted {\n",
       "  color: var(--sklearn-color-text);\n",
       "  background-color: var(--sklearn-color-fitted-level-2);\n",
       "}\n",
       "\n",
       "/* Estimator label */\n",
       "\n",
       "#sk-container-id-1 div.sk-label label {\n",
       "  font-family: monospace;\n",
       "  font-weight: bold;\n",
       "  display: inline-block;\n",
       "  line-height: 1.2em;\n",
       "}\n",
       "\n",
       "#sk-container-id-1 div.sk-label-container {\n",
       "  text-align: center;\n",
       "}\n",
       "\n",
       "/* Estimator-specific */\n",
       "#sk-container-id-1 div.sk-estimator {\n",
       "  font-family: monospace;\n",
       "  border: 1px dotted var(--sklearn-color-border-box);\n",
       "  border-radius: 0.25em;\n",
       "  box-sizing: border-box;\n",
       "  margin-bottom: 0.5em;\n",
       "  /* unfitted */\n",
       "  background-color: var(--sklearn-color-unfitted-level-0);\n",
       "}\n",
       "\n",
       "#sk-container-id-1 div.sk-estimator.fitted {\n",
       "  /* fitted */\n",
       "  background-color: var(--sklearn-color-fitted-level-0);\n",
       "}\n",
       "\n",
       "/* on hover */\n",
       "#sk-container-id-1 div.sk-estimator:hover {\n",
       "  /* unfitted */\n",
       "  background-color: var(--sklearn-color-unfitted-level-2);\n",
       "}\n",
       "\n",
       "#sk-container-id-1 div.sk-estimator.fitted:hover {\n",
       "  /* fitted */\n",
       "  background-color: var(--sklearn-color-fitted-level-2);\n",
       "}\n",
       "\n",
       "/* Specification for estimator info (e.g. \"i\" and \"?\") */\n",
       "\n",
       "/* Common style for \"i\" and \"?\" */\n",
       "\n",
       ".sk-estimator-doc-link,\n",
       "a:link.sk-estimator-doc-link,\n",
       "a:visited.sk-estimator-doc-link {\n",
       "  float: right;\n",
       "  font-size: smaller;\n",
       "  line-height: 1em;\n",
       "  font-family: monospace;\n",
       "  background-color: var(--sklearn-color-background);\n",
       "  border-radius: 1em;\n",
       "  height: 1em;\n",
       "  width: 1em;\n",
       "  text-decoration: none !important;\n",
       "  margin-left: 0.5em;\n",
       "  text-align: center;\n",
       "  /* unfitted */\n",
       "  border: var(--sklearn-color-unfitted-level-1) 1pt solid;\n",
       "  color: var(--sklearn-color-unfitted-level-1);\n",
       "}\n",
       "\n",
       ".sk-estimator-doc-link.fitted,\n",
       "a:link.sk-estimator-doc-link.fitted,\n",
       "a:visited.sk-estimator-doc-link.fitted {\n",
       "  /* fitted */\n",
       "  border: var(--sklearn-color-fitted-level-1) 1pt solid;\n",
       "  color: var(--sklearn-color-fitted-level-1);\n",
       "}\n",
       "\n",
       "/* On hover */\n",
       "div.sk-estimator:hover .sk-estimator-doc-link:hover,\n",
       ".sk-estimator-doc-link:hover,\n",
       "div.sk-label-container:hover .sk-estimator-doc-link:hover,\n",
       ".sk-estimator-doc-link:hover {\n",
       "  /* unfitted */\n",
       "  background-color: var(--sklearn-color-unfitted-level-3);\n",
       "  color: var(--sklearn-color-background);\n",
       "  text-decoration: none;\n",
       "}\n",
       "\n",
       "div.sk-estimator.fitted:hover .sk-estimator-doc-link.fitted:hover,\n",
       ".sk-estimator-doc-link.fitted:hover,\n",
       "div.sk-label-container:hover .sk-estimator-doc-link.fitted:hover,\n",
       ".sk-estimator-doc-link.fitted:hover {\n",
       "  /* fitted */\n",
       "  background-color: var(--sklearn-color-fitted-level-3);\n",
       "  color: var(--sklearn-color-background);\n",
       "  text-decoration: none;\n",
       "}\n",
       "\n",
       "/* Span, style for the box shown on hovering the info icon */\n",
       ".sk-estimator-doc-link span {\n",
       "  display: none;\n",
       "  z-index: 9999;\n",
       "  position: relative;\n",
       "  font-weight: normal;\n",
       "  right: .2ex;\n",
       "  padding: .5ex;\n",
       "  margin: .5ex;\n",
       "  width: min-content;\n",
       "  min-width: 20ex;\n",
       "  max-width: 50ex;\n",
       "  color: var(--sklearn-color-text);\n",
       "  box-shadow: 2pt 2pt 4pt #999;\n",
       "  /* unfitted */\n",
       "  background: var(--sklearn-color-unfitted-level-0);\n",
       "  border: .5pt solid var(--sklearn-color-unfitted-level-3);\n",
       "}\n",
       "\n",
       ".sk-estimator-doc-link.fitted span {\n",
       "  /* fitted */\n",
       "  background: var(--sklearn-color-fitted-level-0);\n",
       "  border: var(--sklearn-color-fitted-level-3);\n",
       "}\n",
       "\n",
       ".sk-estimator-doc-link:hover span {\n",
       "  display: block;\n",
       "}\n",
       "\n",
       "/* \"?\"-specific style due to the `<a>` HTML tag */\n",
       "\n",
       "#sk-container-id-1 a.estimator_doc_link {\n",
       "  float: right;\n",
       "  font-size: 1rem;\n",
       "  line-height: 1em;\n",
       "  font-family: monospace;\n",
       "  background-color: var(--sklearn-color-background);\n",
       "  border-radius: 1rem;\n",
       "  height: 1rem;\n",
       "  width: 1rem;\n",
       "  text-decoration: none;\n",
       "  /* unfitted */\n",
       "  color: var(--sklearn-color-unfitted-level-1);\n",
       "  border: var(--sklearn-color-unfitted-level-1) 1pt solid;\n",
       "}\n",
       "\n",
       "#sk-container-id-1 a.estimator_doc_link.fitted {\n",
       "  /* fitted */\n",
       "  border: var(--sklearn-color-fitted-level-1) 1pt solid;\n",
       "  color: var(--sklearn-color-fitted-level-1);\n",
       "}\n",
       "\n",
       "/* On hover */\n",
       "#sk-container-id-1 a.estimator_doc_link:hover {\n",
       "  /* unfitted */\n",
       "  background-color: var(--sklearn-color-unfitted-level-3);\n",
       "  color: var(--sklearn-color-background);\n",
       "  text-decoration: none;\n",
       "}\n",
       "\n",
       "#sk-container-id-1 a.estimator_doc_link.fitted:hover {\n",
       "  /* fitted */\n",
       "  background-color: var(--sklearn-color-fitted-level-3);\n",
       "}\n",
       "</style><div id=\"sk-container-id-1\" class=\"sk-top-container\"><div class=\"sk-text-repr-fallback\"><pre>RandomForestClassifier(random_state=42)</pre><b>In a Jupyter environment, please rerun this cell to show the HTML representation or trust the notebook. <br />On GitHub, the HTML representation is unable to render, please try loading this page with nbviewer.org.</b></div><div class=\"sk-container\" hidden><div class=\"sk-item\"><div class=\"sk-estimator fitted sk-toggleable\"><input class=\"sk-toggleable__control sk-hidden--visually\" id=\"sk-estimator-id-1\" type=\"checkbox\" checked><label for=\"sk-estimator-id-1\" class=\"sk-toggleable__label fitted sk-toggleable__label-arrow\"><div><div>RandomForestClassifier</div></div><div><a class=\"sk-estimator-doc-link fitted\" rel=\"noreferrer\" target=\"_blank\" href=\"https://scikit-learn.org/1.6/modules/generated/sklearn.ensemble.RandomForestClassifier.html\">?<span>Documentation for RandomForestClassifier</span></a><span class=\"sk-estimator-doc-link fitted\">i<span>Fitted</span></span></div></label><div class=\"sk-toggleable__content fitted\"><pre>RandomForestClassifier(random_state=42)</pre></div> </div></div></div></div>"
      ],
      "text/plain": [
       "RandomForestClassifier(random_state=42)"
      ]
     },
     "execution_count": 13,
     "metadata": {},
     "output_type": "execute_result"
    }
   ],
   "source": [
    "# Train the model\n",
    "model = RandomForestClassifier(n_estimators=100, random_state=42)\n",
    "model.fit(X_train, y_train)"
   ]
  },
  {
   "cell_type": "markdown",
   "id": "4e94528b",
   "metadata": {},
   "source": [
    "Membuat model `RandomForestClassifier` dengan 100 pohon keputusan `n_estimators=100`; `random_state=42` memastikan hasil konsisten. Melatih model pada data pelatihan (X_train, y_train) untuk mempelajari pola yang membedakan pinjaman yang gagal bayar dan lunas."
   ]
  },
  {
   "cell_type": "markdown",
   "id": "95f04594",
   "metadata": {},
   "source": [
    "#### **Make predictions on the test set**\n"
   ]
  },
  {
   "cell_type": "markdown",
   "id": "0f19705b",
   "metadata": {},
   "source": [
    "Menggunakan model yang telah dilatih untuk memprediksi status pinjaman pada data pengujian."
   ]
  },
  {
   "cell_type": "code",
   "execution_count": 14,
   "id": "1b3e1020",
   "metadata": {},
   "outputs": [],
   "source": [
    "y_pred = model.predict(X_test)"
   ]
  },
  {
   "cell_type": "markdown",
   "id": "9b121e02",
   "metadata": {},
   "source": [
    "Memprediksi label (gagal bayar atau lunas) untuk data pengujian (X_test) menggunakan model yang telah dilatih."
   ]
  },
  {
   "cell_type": "markdown",
   "id": "bfcbee83",
   "metadata": {},
   "source": [
    "## **Model Evaluation**"
   ]
  },
  {
   "cell_type": "markdown",
   "id": "9a4811f6",
   "metadata": {},
   "source": [
    "Tahap yang dilakukan di sesi ini adalah mengevaluasi performa model dengan metrik seperti akurasi, laporan klasifikasi, dan matriks kebingungan."
   ]
  },
  {
   "cell_type": "markdown",
   "id": "791a6d2d",
   "metadata": {},
   "source": [
    "#### **Model accuracy**"
   ]
  },
  {
   "cell_type": "markdown",
   "id": "d454bf4b",
   "metadata": {},
   "source": [
    "Mencetak skor akurasi, yaitu persentase prediksi yang benar dibandingkan dengan label sebenarnya pada data pengujian."
   ]
  },
  {
   "cell_type": "code",
   "execution_count": 15,
   "id": "990ec784",
   "metadata": {},
   "outputs": [
    {
     "name": "stdout",
     "output_type": "stream",
     "text": [
      "Accuracy Score: 0.9338449731389102\n"
     ]
    }
   ],
   "source": [
    "print(\"Accuracy Score:\", accuracy_score(y_test, y_pred))"
   ]
  },
  {
   "cell_type": "markdown",
   "id": "78b28e5f",
   "metadata": {},
   "source": [
    "#### **Classification report**"
   ]
  },
  {
   "cell_type": "markdown",
   "id": "327483d0",
   "metadata": {},
   "source": [
    "Mencetak header untuk laporan klasifikasi yang akan menampilkan metrik seperti presisi, recall, dan F1-score."
   ]
  },
  {
   "cell_type": "code",
   "execution_count": 16,
   "id": "2d83a70f",
   "metadata": {},
   "outputs": [
    {
     "name": "stdout",
     "output_type": "stream",
     "text": [
      "Classification Report:\n",
      "              precision    recall  f1-score   support\n",
      "\n",
      "           0       0.93      0.99      0.96      5099\n",
      "           1       0.97      0.72      0.83      1416\n",
      "\n",
      "    accuracy                           0.93      6515\n",
      "   macro avg       0.95      0.86      0.89      6515\n",
      "weighted avg       0.94      0.93      0.93      6515\n",
      "\n"
     ]
    }
   ],
   "source": [
    "print(\"Classification Report:\")\n",
    "print(classification_report(y_test, y_pred))"
   ]
  },
  {
   "cell_type": "markdown",
   "id": "8815e3b4",
   "metadata": {},
   "source": [
    "Mencetak laporan klasifikasi yang merinci performa model untuk setiap kelas (gagal bayar dan lunas), termasuk presisi, recall, dan F1-score."
   ]
  },
  {
   "cell_type": "markdown",
   "id": "ae19fce3",
   "metadata": {},
   "source": [
    "#### **Confusion Matrix**"
   ]
  },
  {
   "cell_type": "markdown",
   "id": "c105c894",
   "metadata": {},
   "source": [
    "Mencetak header untuk matriks kebingungan yang menunjukkan distribusi prediksi benar dan salah. Mencetak matriks kebingungan, yaitu tabel 2x2 yang menunjukkan jumlah true positive, true negative, false positive, dan false negative."
   ]
  },
  {
   "cell_type": "code",
   "execution_count": 17,
   "id": "05513df3",
   "metadata": {},
   "outputs": [
    {
     "name": "stdout",
     "output_type": "stream",
     "text": [
      "Confusion Matrix:\n",
      "[[5063   36]\n",
      " [ 395 1021]]\n"
     ]
    }
   ],
   "source": [
    "print(\"Confusion Matrix:\")\n",
    "print(confusion_matrix(y_test, y_pred))"
   ]
  },
  {
   "cell_type": "markdown",
   "id": "9ad8429f",
   "metadata": {},
   "source": [
    "## **Testing Predictions**"
   ]
  },
  {
   "cell_type": "markdown",
   "id": "9b581657",
   "metadata": {},
   "source": [
    "Tahap yang dilakukan di sesi ini adalah menguji model dengan data sampel baru untuk melihat bagaimana model memprediksi status pinjaman pada kasus tertentu.\n"
   ]
  },
  {
   "cell_type": "markdown",
   "id": "cc289760",
   "metadata": {},
   "source": [
    "#### **Create sample test cases**"
   ]
  },
  {
   "cell_type": "markdown",
   "id": "96f3e8c7",
   "metadata": {},
   "source": [
    "Membuat data sampel baru yang mewakili pelanggan hipotetis untuk menguji kemampuan prediksi model, membuat DataFrame baru dengan data sampel yang mencakup tiga pelanggan hipotetis dengan atribut yang relevan."
   ]
  },
  {
   "cell_type": "code",
   "execution_count": 18,
   "id": "46fc7418",
   "metadata": {},
   "outputs": [],
   "source": [
    "sample_data = pd.DataFrame({\n",
    "    'person_age': [25, 40, 30],\n",
    "    'person_income': [50000, 120000, 80000],\n",
    "    'person_home_ownership': ['RENT', 'MORTGAGE', 'OWN'],\n",
    "    'person_emp_length': [5.0, 10.0, 3.0],\n",
    "    'loan_intent': ['EDUCATION', 'DEBTCONSOLIDATION', 'MEDICAL'],\n",
    "    'loan_grade': ['B', 'A', 'C'],\n",
    "    'loan_amnt': [10000, 20000, 15000],\n",
    "    'loan_int_rate': [10.99, 7.9, 13.49],\n",
    "    'loan_percent_income': [0.2, 0.17, 0.19],\n",
    "    'cb_person_default_on_file': ['N', 'Y', 'N'],\n",
    "    'cb_person_cred_hist_length': [3, 15, 7]})"
   ]
  },
  {
   "cell_type": "markdown",
   "id": "44149964",
   "metadata": {},
   "source": [
    "#### **Preprocess sample data**"
   ]
  },
  {
   "cell_type": "markdown",
   "id": "f752ac33",
   "metadata": {},
   "source": [
    "Melakukan pra-pemrosesan pada data sampel agar sesuai dengan format yang digunakan saat pelatihan model. Mengkodekan kolom kategorikal pada data sampel menjadi nilai numerik menggunakan `LabelEncoder`; `fit_transform` digunakan untuk melatih dan menerapkan encoder pada data sampel."
   ]
  },
  {
   "cell_type": "code",
   "execution_count": 19,
   "id": "91bb4e26",
   "metadata": {},
   "outputs": [],
   "source": [
    "for col in categorical_cols:\n",
    "    sample_data[col] = le.fit_transform(sample_data[col])"
   ]
  },
  {
   "cell_type": "markdown",
   "id": "d06bf6ed",
   "metadata": {},
   "source": [
    "#### **Scale sample data**"
   ]
  },
  {
   "cell_type": "markdown",
   "id": "d31b9614",
   "metadata": {},
   "source": [
    "Menstandarisasi data sampel agar memiliki skala yang sama dengan data pelatihan. Menerapkan standarisasi pada data sampel menggunakan scaler yang telah dilatih pada data pelatihan untuk memastikan konsistensi."
   ]
  },
  {
   "cell_type": "code",
   "execution_count": 20,
   "id": "7abefa4c",
   "metadata": {},
   "outputs": [],
   "source": [
    "sample_data_scaled = scaler.transform(sample_data)"
   ]
  },
  {
   "cell_type": "markdown",
   "id": "967b0506",
   "metadata": {},
   "source": [
    "#### **Make predictions**"
   ]
  },
  {
   "cell_type": "markdown",
   "id": "ec19765f",
   "metadata": {},
   "source": [
    "Menggunakan model untuk memprediksi status pinjaman pada data sampel yang telah diproses. Memprediksi status pinjaman (gagal bayar atau lunas) untuk data sampel menggunakan model yang telah dilatih."
   ]
  },
  {
   "cell_type": "code",
   "execution_count": 21,
   "id": "5446ae43",
   "metadata": {},
   "outputs": [],
   "source": [
    "predictions = model.predict(sample_data_scaled)"
   ]
  },
  {
   "cell_type": "markdown",
   "id": "91db721e",
   "metadata": {},
   "source": [
    "#### **Display the results**"
   ]
  },
  {
   "cell_type": "markdown",
   "id": "a7b2c9f3",
   "metadata": {},
   "source": [
    "Menampilkan hasil prediksi untuk data sampel dalam format yang mudah dibaca."
   ]
  },
  {
   "cell_type": "code",
   "execution_count": 22,
   "id": "59c1cc9e",
   "metadata": {},
   "outputs": [
    {
     "name": "stdout",
     "output_type": "stream",
     "text": [
      "Inference Results for Sample Data:\n",
      "Sample 1: Predicted Loan Status = Lunas\n",
      "Sample 2: Predicted Loan Status = Lunas\n",
      "Sample 3: Predicted Loan Status = Lunas\n"
     ]
    }
   ],
   "source": [
    "print(\"Inference Results for Sample Data:\")\n",
    "for i, pred in enumerate(predictions):\n",
    "    status = 'Gagal Bayar' if pred == 1 else 'Lunas'\n",
    "    print(f\"Sample {i+1}: Predicted Loan Status = {status}\")"
   ]
  },
  {
   "cell_type": "code",
   "execution_count": null,
   "id": "a8d1dab3",
   "metadata": {},
   "outputs": [],
   "source": []
  },
  {
   "cell_type": "code",
   "execution_count": null,
   "id": "c7852afd",
   "metadata": {},
   "outputs": [],
   "source": []
  }
 ],
 "metadata": {
  "kernelspec": {
   "display_name": "Python 3",
   "language": "python",
   "name": "python3"
  },
  "language_info": {
   "codemirror_mode": {
    "name": "ipython",
    "version": 3
   },
   "file_extension": ".py",
   "mimetype": "text/x-python",
   "name": "python",
   "nbconvert_exporter": "python",
   "pygments_lexer": "ipython3",
   "version": "3.12.6"
  }
 },
 "nbformat": 4,
 "nbformat_minor": 5
}
